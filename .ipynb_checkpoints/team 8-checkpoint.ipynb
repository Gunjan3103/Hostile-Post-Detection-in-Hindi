{
 "cells": [
  {
   "cell_type": "code",
   "execution_count": 2,
   "metadata": {},
   "outputs": [],
   "source": [
    "import pandas as pd\n",
    "import numpy as np\n",
    "import matplotlib.pyplot as plt"
   ]
  },
  {
   "cell_type": "code",
   "execution_count": 3,
   "metadata": {},
   "outputs": [],
   "source": [
    "#load data\n",
    "\n",
    "data = pd.read_csv(\"dataset.csv\")"
   ]
  },
  {
   "cell_type": "code",
   "execution_count": 13,
   "metadata": {},
   "outputs": [
    {
     "data": {
      "text/html": [
       "<div>\n",
       "<style scoped>\n",
       "    .dataframe tbody tr th:only-of-type {\n",
       "        vertical-align: middle;\n",
       "    }\n",
       "\n",
       "    .dataframe tbody tr th {\n",
       "        vertical-align: top;\n",
       "    }\n",
       "\n",
       "    .dataframe thead th {\n",
       "        text-align: right;\n",
       "    }\n",
       "</style>\n",
       "<table border=\"1\" class=\"dataframe\">\n",
       "  <thead>\n",
       "    <tr style=\"text-align: right;\">\n",
       "      <th></th>\n",
       "      <th>Post</th>\n",
       "      <th>Labels Set</th>\n",
       "    </tr>\n",
       "  </thead>\n",
       "  <tbody>\n",
       "    <tr>\n",
       "      <th>0</th>\n",
       "      <td>मेरे देश के हिन्दु बहुत निराले है। कुछ तो पक्क...</td>\n",
       "      <td>hate,offensive</td>\n",
       "    </tr>\n",
       "    <tr>\n",
       "      <th>1</th>\n",
       "      <td>सरकार हमेशा से किसानों की कमाई को बढ़ाने के लि...</td>\n",
       "      <td>non-hostile</td>\n",
       "    </tr>\n",
       "    <tr>\n",
       "      <th>2</th>\n",
       "      <td>सुशांत ने जो बिजनेस डील 9 जून को की थी, वो डील...</td>\n",
       "      <td>non-hostile</td>\n",
       "    </tr>\n",
       "    <tr>\n",
       "      <th>3</th>\n",
       "      <td>@prabhav218 साले जेएनयू छाप कमिने लोग हिन्दुओं...</td>\n",
       "      <td>defamation,offensive</td>\n",
       "    </tr>\n",
       "    <tr>\n",
       "      <th>4</th>\n",
       "      <td>#unlock4guidelines - अनलॉक-4 के लिए गाइडलाइन्स...</td>\n",
       "      <td>non-hostile</td>\n",
       "    </tr>\n",
       "    <tr>\n",
       "      <th>...</th>\n",
       "      <td>...</td>\n",
       "      <td>...</td>\n",
       "    </tr>\n",
       "    <tr>\n",
       "      <th>5723</th>\n",
       "      <td>उदितराज जी हिम्मत  जुटा कर उस नेता के लिए कुछ ...</td>\n",
       "      <td>hate</td>\n",
       "    </tr>\n",
       "    <tr>\n",
       "      <th>5724</th>\n",
       "      <td>उप्र: पीएम रिपोर्ट में खुलासा: हार्टअटैक से हु...</td>\n",
       "      <td>non-hostile</td>\n",
       "    </tr>\n",
       "    <tr>\n",
       "      <th>5725</th>\n",
       "      <td>नौकरी गंवा चुके दोस्त की मदद: नगद के बजाए गिफ्...</td>\n",
       "      <td>non-hostile</td>\n",
       "    </tr>\n",
       "    <tr>\n",
       "      <th>5726</th>\n",
       "      <td>बंगाल में हिन्दू मरे हैं इसलिए मुझे कोई फर्क न...</td>\n",
       "      <td>fake</td>\n",
       "    </tr>\n",
       "    <tr>\n",
       "      <th>5727</th>\n",
       "      <td>रक्षा मंत्री @rajnathsingh ने पूर्व राष्ट्रपति...</td>\n",
       "      <td>non-hostile</td>\n",
       "    </tr>\n",
       "  </tbody>\n",
       "</table>\n",
       "<p>5728 rows × 2 columns</p>\n",
       "</div>"
      ],
      "text/plain": [
       "                                                   Post            Labels Set\n",
       "0     मेरे देश के हिन्दु बहुत निराले है। कुछ तो पक्क...        hate,offensive\n",
       "1     सरकार हमेशा से किसानों की कमाई को बढ़ाने के लि...           non-hostile\n",
       "2     सुशांत ने जो बिजनेस डील 9 जून को की थी, वो डील...           non-hostile\n",
       "3     @prabhav218 साले जेएनयू छाप कमिने लोग हिन्दुओं...  defamation,offensive\n",
       "4     #unlock4guidelines - अनलॉक-4 के लिए गाइडलाइन्स...           non-hostile\n",
       "...                                                 ...                   ...\n",
       "5723  उदितराज जी हिम्मत  जुटा कर उस नेता के लिए कुछ ...                  hate\n",
       "5724  उप्र: पीएम रिपोर्ट में खुलासा: हार्टअटैक से हु...           non-hostile\n",
       "5725  नौकरी गंवा चुके दोस्त की मदद: नगद के बजाए गिफ्...           non-hostile\n",
       "5726  बंगाल में हिन्दू मरे हैं इसलिए मुझे कोई फर्क न...                  fake\n",
       "5727  रक्षा मंत्री @rajnathsingh ने पूर्व राष्ट्रपति...           non-hostile\n",
       "\n",
       "[5728 rows x 2 columns]"
      ]
     },
     "execution_count": 13,
     "metadata": {},
     "output_type": "execute_result"
    }
   ],
   "source": [
    "#dataframe creation & removing extra columns\n",
    "\n",
    "df=pd.DataFrame(data)\n",
    "df=df.drop(df.columns[[0,3,4]], axis=1)"
   ]
  },
  {
   "cell_type": "code",
   "execution_count": 5,
   "metadata": {},
   "outputs": [
    {
     "data": {
      "text/plain": [
       "Post          False\n",
       "Labels Set    False\n",
       "dtype: bool"
      ]
     },
     "execution_count": 5,
     "metadata": {},
     "output_type": "execute_result"
    }
   ],
   "source": [
    "#check for NaN values\n",
    "missing=df.isnull().any()\n",
    "missing"
   ]
  },
  {
   "cell_type": "code",
   "execution_count": 6,
   "metadata": {},
   "outputs": [
    {
     "name": "stdout",
     "output_type": "stream",
     "text": [
      "             count percentage\n",
      "hate           792     13.82%\n",
      "offensive      742     12.95%\n",
      "non-hostile   3050     53.24%\n",
      "defamation     564     9.846%\n",
      "fake          1144     19.97%\n"
     ]
    }
   ],
   "source": [
    "#the count & percentage of labels present\n",
    "\n",
    "d={}\n",
    "for i in df['Labels Set']:\n",
    "    ar=list(i.split(','))\n",
    "    for j in ar:\n",
    "        try:\n",
    "            d[j]+=1\n",
    "        except:\n",
    "            d[j]=1\n",
    "\n",
    "total=df.shape[0]\n",
    "percentageHolder={}\n",
    "for i in d:\n",
    "    percentageHolder[i]=str((d[i]/total)*100)[:5]+'%'\n",
    "\n",
    "\n",
    "table={'count':d,'percentage':percentageHolder}\n",
    "print(pd.DataFrame(table))"
   ]
  },
  {
   "cell_type": "code",
   "execution_count": 7,
   "metadata": {},
   "outputs": [
    {
     "data": {
      "image/png": "[encoded data removed]",
      "text/plain": [
       "<Figure size 432x288 with 1 Axes>"
      ]
     },
     "metadata": {},
     "output_type": "display_data"
    }
   ],
   "source": [
    "#pie chart creation\n",
    "\n",
    "labels = list(d.keys())\n",
    "values = list(d.values())\n",
    "plt.pie(values, labels=labels)\n",
    "plt.show()"
   ]
  },
  {
   "cell_type": "code",
   "execution_count": null,
   "metadata": {},
   "outputs": [],
   "source": [
    "#main logic\n",
    "labelMaster={}\n",
    "\n",
    "posts=list(df['Post'])\n",
    "label=list(df['Labels Set'])\n",
    "print(posts)\n",
    "for i in posts:\n",
    "    for j in i:\n",
    "        print('j',end=' ')\n",
    "    print()"
   ]
  },
  {
   "cell_type": "code",
   "execution_count": null,
   "metadata": {},
   "outputs": [],
   "source": []
  },
  {
   "cell_type": "code",
   "execution_count": null,
   "metadata": {},
   "outputs": [],
   "source": []
  }
 ],
 "metadata": {
  "kernelspec": {
   "display_name": "Python 3",
   "language": "python",
   "name": "python3"
  },
  "language_info": {
   "codemirror_mode": {
    "name": "ipython",
    "version": 3
   },
   "file_extension": ".py",
   "mimetype": "text/x-python",
   "name": "python",
   "nbconvert_exporter": "python",
   "pygments_lexer": "ipython3",
   "version": "3.8.2"
  }
 },
 "nbformat": 4,
 "nbformat_minor": 4
}
